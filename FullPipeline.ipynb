{
 "cells": [
  {
   "cell_type": "code",
   "execution_count": 17,
   "id": "d83f7a2a-8da5-4927-821b-a18974a256d5",
   "metadata": {},
   "outputs": [
    {
     "name": "stderr",
     "output_type": "stream",
     "text": [
      "C:\\Users\\Asrorbek\\AppData\\Local\\Temp\\ipykernel_9296\\3486069929.py:10: SettingWithCopyWarning: \n",
      "A value is trying to be set on a copy of a slice from a DataFrame\n",
      "\n",
      "See the caveats in the documentation: https://pandas.pydata.org/pandas-docs/stable/user_guide/indexing.html#returning-a-view-versus-a-copy\n",
      "  train_set.drop('size_cat', axis=1, inplace=True)\n",
      "C:\\Users\\Asrorbek\\AppData\\Local\\Temp\\ipykernel_9296\\3486069929.py:11: SettingWithCopyWarning: \n",
      "A value is trying to be set on a copy of a slice from a DataFrame\n",
      "\n",
      "See the caveats in the documentation: https://pandas.pydata.org/pandas-docs/stable/user_guide/indexing.html#returning-a-view-versus-a-copy\n",
      "  test_set.drop('size_cat', axis=1, inplace=True)\n"
     ]
    }
   ],
   "source": [
    "import pandas as pd\n",
    "import numpy as np\n",
    "import sklearn\n",
    "df=pd.read_csv('homedata.csv')\n",
    "from sklearn.model_selection import StratifiedShuffleSplit\n",
    "split = StratifiedShuffleSplit(n_splits=1, test_size=0.2, random_state=42)\n",
    "for train_index, test_index in split.split(df, df['size_cat']):\n",
    "    train_set = df.iloc[train_index]\n",
    "    test_set = df.iloc[test_index]\n",
    "train_set.drop('size_cat', axis=1, inplace=True)\n",
    "test_set.drop('size_cat', axis=1, inplace=True)\n",
    "housing = train_set.drop('price', axis=1)\n",
    "housing_labels = train_set['price'].copy()\n",
    "housing_num = housing[['rooms', 'size', 'level', 'max_levels']]\n",
    "\n",
    "from sklearn.base import BaseEstimator, TransformerMixin\n",
    "\n",
    "rooms_ix, size_ix = 2, 3\n",
    "class CombinedAttributesAdder(BaseEstimator, TransformerMixin):\n",
    "    def fit(self, X):\n",
    "        return self\n",
    "    def transform(self, X):\n",
    "        size_per_room = X[:, size_ix] / X[:, rooms_ix]\n",
    "        return np.c_[X, size_per_room]\n",
    "\n",
    "from sklearn.pipeline import Pipeline\n",
    "from sklearn.impute import SimpleImputer\n",
    "from sklearn.preprocessing import OneHotEncoder, StandardScaler\n",
    "\n",
    "num_pipline = Pipeline([\n",
    "    ('imputer', SimpleImputer(strategy='median')),\n",
    "    ('attribs_adder', CombinedAttributesAdder()),\n",
    "    ('std_scaler', StandardScaler())\n",
    "])\n"
   ]
  },
  {
   "cell_type": "code",
   "execution_count": 18,
   "id": "27940e7e-8669-442b-9160-5fc91c153fd7",
   "metadata": {},
   "outputs": [
    {
     "data": {
      "text/plain": [
       "array([[ 0.34724433, -0.54338637, -0.31492312, -0.77535811, -0.5234883 ],\n",
       "       [-0.57951842, -0.29950045,  0.56624035, -0.39157678, -0.7321414 ],\n",
       "       [ 0.34724433,  0.32376358,  0.12565861, -0.77535811, -0.7321414 ],\n",
       "       ...,\n",
       "       [ 0.34724433,  0.1882714 , -1.19608658, -0.77535811,  1.14573645],\n",
       "       [-0.57951842, -0.62468168, -1.19608658, -0.77535811,  1.14573645],\n",
       "       [-0.57951842, -0.57048481,  0.12565861, -0.39157678, -0.57565158]])"
      ]
     },
     "execution_count": 18,
     "metadata": {},
     "output_type": "execute_result"
    }
   ],
   "source": [
    "num_pipline.fit_transform(housing_num)"
   ]
  },
  {
   "cell_type": "code",
   "execution_count": 19,
   "id": "431010a8-5230-4537-8843-de880d1d8e81",
   "metadata": {},
   "outputs": [],
   "source": [
    "from sklearn.compose import ColumnTransformer\n",
    "\n",
    "num_attribs = list(housing_num)\n",
    "cat_attribs = ['district']\n",
    "\n",
    "full_pipeline = ColumnTransformer([\n",
    "    ('num', num_pipline, num_attribs),\n",
    "    ('cat', OneHotEncoder(), cat_attribs)\n",
    "])"
   ]
  },
  {
   "cell_type": "code",
   "execution_count": 20,
   "id": "85399579-b784-42e0-98ac-f3a23d57199d",
   "metadata": {},
   "outputs": [
    {
     "data": {
      "text/plain": [
       "array([[ 0.34724433, -0.54338637, -0.31492312, ...,  0.        ,\n",
       "         0.        ,  0.        ],\n",
       "       [-0.57951842, -0.29950045,  0.56624035, ...,  0.        ,\n",
       "         0.        ,  0.        ],\n",
       "       [ 0.34724433,  0.32376358,  0.12565861, ...,  0.        ,\n",
       "         0.        ,  0.        ],\n",
       "       ...,\n",
       "       [ 0.34724433,  0.1882714 , -1.19608658, ...,  0.        ,\n",
       "         0.        ,  0.        ],\n",
       "       [-0.57951842, -0.62468168, -1.19608658, ...,  0.        ,\n",
       "         0.        ,  0.        ],\n",
       "       [-0.57951842, -0.57048481,  0.12565861, ...,  1.        ,\n",
       "         0.        ,  0.        ]])"
      ]
     },
     "execution_count": 20,
     "metadata": {},
     "output_type": "execute_result"
    }
   ],
   "source": [
    "housing_prepared = full_pipeline.fit_transform(housing)\n",
    "housing_prepared"
   ]
  },
  {
   "cell_type": "code",
   "execution_count": 21,
   "id": "f571a075-b379-453d-a31e-c2b0adb768b5",
   "metadata": {},
   "outputs": [
    {
     "data": {
      "text/html": [
       "<style>#sk-container-id-2 {color: black;background-color: white;}#sk-container-id-2 pre{padding: 0;}#sk-container-id-2 div.sk-toggleable {background-color: white;}#sk-container-id-2 label.sk-toggleable__label {cursor: pointer;display: block;width: 100%;margin-bottom: 0;padding: 0.3em;box-sizing: border-box;text-align: center;}#sk-container-id-2 label.sk-toggleable__label-arrow:before {content: \"▸\";float: left;margin-right: 0.25em;color: #696969;}#sk-container-id-2 label.sk-toggleable__label-arrow:hover:before {color: black;}#sk-container-id-2 div.sk-estimator:hover label.sk-toggleable__label-arrow:before {color: black;}#sk-container-id-2 div.sk-toggleable__content {max-height: 0;max-width: 0;overflow: hidden;text-align: left;background-color: #f0f8ff;}#sk-container-id-2 div.sk-toggleable__content pre {margin: 0.2em;color: black;border-radius: 0.25em;background-color: #f0f8ff;}#sk-container-id-2 input.sk-toggleable__control:checked~div.sk-toggleable__content {max-height: 200px;max-width: 100%;overflow: auto;}#sk-container-id-2 input.sk-toggleable__control:checked~label.sk-toggleable__label-arrow:before {content: \"▾\";}#sk-container-id-2 div.sk-estimator input.sk-toggleable__control:checked~label.sk-toggleable__label {background-color: #d4ebff;}#sk-container-id-2 div.sk-label input.sk-toggleable__control:checked~label.sk-toggleable__label {background-color: #d4ebff;}#sk-container-id-2 input.sk-hidden--visually {border: 0;clip: rect(1px 1px 1px 1px);clip: rect(1px, 1px, 1px, 1px);height: 1px;margin: -1px;overflow: hidden;padding: 0;position: absolute;width: 1px;}#sk-container-id-2 div.sk-estimator {font-family: monospace;background-color: #f0f8ff;border: 1px dotted black;border-radius: 0.25em;box-sizing: border-box;margin-bottom: 0.5em;}#sk-container-id-2 div.sk-estimator:hover {background-color: #d4ebff;}#sk-container-id-2 div.sk-parallel-item::after {content: \"\";width: 100%;border-bottom: 1px solid gray;flex-grow: 1;}#sk-container-id-2 div.sk-label:hover label.sk-toggleable__label {background-color: #d4ebff;}#sk-container-id-2 div.sk-serial::before {content: \"\";position: absolute;border-left: 1px solid gray;box-sizing: border-box;top: 0;bottom: 0;left: 50%;z-index: 0;}#sk-container-id-2 div.sk-serial {display: flex;flex-direction: column;align-items: center;background-color: white;padding-right: 0.2em;padding-left: 0.2em;position: relative;}#sk-container-id-2 div.sk-item {position: relative;z-index: 1;}#sk-container-id-2 div.sk-parallel {display: flex;align-items: stretch;justify-content: center;background-color: white;position: relative;}#sk-container-id-2 div.sk-item::before, #sk-container-id-2 div.sk-parallel-item::before {content: \"\";position: absolute;border-left: 1px solid gray;box-sizing: border-box;top: 0;bottom: 0;left: 50%;z-index: -1;}#sk-container-id-2 div.sk-parallel-item {display: flex;flex-direction: column;z-index: 1;position: relative;background-color: white;}#sk-container-id-2 div.sk-parallel-item:first-child::after {align-self: flex-end;width: 50%;}#sk-container-id-2 div.sk-parallel-item:last-child::after {align-self: flex-start;width: 50%;}#sk-container-id-2 div.sk-parallel-item:only-child::after {width: 0;}#sk-container-id-2 div.sk-dashed-wrapped {border: 1px dashed gray;margin: 0 0.4em 0.5em 0.4em;box-sizing: border-box;padding-bottom: 0.4em;background-color: white;}#sk-container-id-2 div.sk-label label {font-family: monospace;font-weight: bold;display: inline-block;line-height: 1.2em;}#sk-container-id-2 div.sk-label-container {text-align: center;}#sk-container-id-2 div.sk-container {/* jupyter's `normalize.less` sets `[hidden] { display: none; }` but bootstrap.min.css set `[hidden] { display: none !important; }` so we also need the `!important` here to be able to override the default hidden behavior on the sphinx rendered scikit-learn.org. See: https://github.com/scikit-learn/scikit-learn/issues/21755 */display: inline-block !important;position: relative;}#sk-container-id-2 div.sk-text-repr-fallback {display: none;}</style><div id=\"sk-container-id-2\" class=\"sk-top-container\"><div class=\"sk-text-repr-fallback\"><pre>LinearRegression()</pre><b>In a Jupyter environment, please rerun this cell to show the HTML representation or trust the notebook. <br />On GitHub, the HTML representation is unable to render, please try loading this page with nbviewer.org.</b></div><div class=\"sk-container\" hidden><div class=\"sk-item\"><div class=\"sk-estimator sk-toggleable\"><input class=\"sk-toggleable__control sk-hidden--visually\" id=\"sk-estimator-id-2\" type=\"checkbox\" checked><label for=\"sk-estimator-id-2\" class=\"sk-toggleable__label sk-toggleable__label-arrow\">LinearRegression</label><div class=\"sk-toggleable__content\"><pre>LinearRegression()</pre></div></div></div></div></div>"
      ],
      "text/plain": [
       "LinearRegression()"
      ]
     },
     "execution_count": 21,
     "metadata": {},
     "output_type": "execute_result"
    }
   ],
   "source": [
    "from sklearn.linear_model import LinearRegression\n",
    "LR_model = LinearRegression()\n",
    "LR_model.fit(housing_prepared, housing_labels)"
   ]
  },
  {
   "cell_type": "code",
   "execution_count": 22,
   "id": "b7d9211c-4894-43ca-ae5f-6f50bde5ef29",
   "metadata": {},
   "outputs": [
    {
     "data": {
      "text/html": [
       "<div>\n",
       "<style scoped>\n",
       "    .dataframe tbody tr th:only-of-type {\n",
       "        vertical-align: middle;\n",
       "    }\n",
       "\n",
       "    .dataframe tbody tr th {\n",
       "        vertical-align: top;\n",
       "    }\n",
       "\n",
       "    .dataframe thead th {\n",
       "        text-align: right;\n",
       "    }\n",
       "</style>\n",
       "<table border=\"1\" class=\"dataframe\">\n",
       "  <thead>\n",
       "    <tr style=\"text-align: right;\">\n",
       "      <th></th>\n",
       "      <th>Unnamed: 0</th>\n",
       "      <th>location</th>\n",
       "      <th>district</th>\n",
       "      <th>rooms</th>\n",
       "      <th>size</th>\n",
       "      <th>level</th>\n",
       "      <th>max_levels</th>\n",
       "      <th>price</th>\n",
       "    </tr>\n",
       "  </thead>\n",
       "  <tbody>\n",
       "    <tr>\n",
       "      <th>6471</th>\n",
       "      <td>6563</td>\n",
       "      <td>город Ташкент, Чиланзарский район, Шарк</td>\n",
       "      <td>Чиланзарский</td>\n",
       "      <td>2</td>\n",
       "      <td>55.0</td>\n",
       "      <td>4</td>\n",
       "      <td>4</td>\n",
       "      <td>36500</td>\n",
       "    </tr>\n",
       "    <tr>\n",
       "      <th>3660</th>\n",
       "      <td>3720</td>\n",
       "      <td>город Ташкент, Юнусабадский район, Юнусобод 19</td>\n",
       "      <td>Юнусабадский</td>\n",
       "      <td>2</td>\n",
       "      <td>60.0</td>\n",
       "      <td>1</td>\n",
       "      <td>5</td>\n",
       "      <td>42000</td>\n",
       "    </tr>\n",
       "    <tr>\n",
       "      <th>383</th>\n",
       "      <td>385</td>\n",
       "      <td>город Ташкент, Яккасарайский район, Глинки</td>\n",
       "      <td>Яккасарайский</td>\n",
       "      <td>2</td>\n",
       "      <td>52.0</td>\n",
       "      <td>1</td>\n",
       "      <td>3</td>\n",
       "      <td>55000</td>\n",
       "    </tr>\n",
       "    <tr>\n",
       "      <th>7018</th>\n",
       "      <td>7129</td>\n",
       "      <td>город Ташкент, Учтепинский район, Гулистон</td>\n",
       "      <td>Учтепинский</td>\n",
       "      <td>2</td>\n",
       "      <td>40.0</td>\n",
       "      <td>2</td>\n",
       "      <td>4</td>\n",
       "      <td>36000</td>\n",
       "    </tr>\n",
       "    <tr>\n",
       "      <th>3039</th>\n",
       "      <td>3077</td>\n",
       "      <td>город Ташкент, Яшнободский район, жилой компле...</td>\n",
       "      <td>Яшнободский</td>\n",
       "      <td>5</td>\n",
       "      <td>120.0</td>\n",
       "      <td>7</td>\n",
       "      <td>9</td>\n",
       "      <td>88000</td>\n",
       "    </tr>\n",
       "    <tr>\n",
       "      <th>...</th>\n",
       "      <td>...</td>\n",
       "      <td>...</td>\n",
       "      <td>...</td>\n",
       "      <td>...</td>\n",
       "      <td>...</td>\n",
       "      <td>...</td>\n",
       "      <td>...</td>\n",
       "      <td>...</td>\n",
       "    </tr>\n",
       "    <tr>\n",
       "      <th>5027</th>\n",
       "      <td>5107</td>\n",
       "      <td>город Ташкент, Яшнободский район, Фергана Йули</td>\n",
       "      <td>Яшнободский</td>\n",
       "      <td>3</td>\n",
       "      <td>72.0</td>\n",
       "      <td>5</td>\n",
       "      <td>9</td>\n",
       "      <td>36500</td>\n",
       "    </tr>\n",
       "    <tr>\n",
       "      <th>6315</th>\n",
       "      <td>6405</td>\n",
       "      <td>город Ташкент, Чиланзарский район, Алмазар</td>\n",
       "      <td>Чиланзарский</td>\n",
       "      <td>2</td>\n",
       "      <td>59.0</td>\n",
       "      <td>2</td>\n",
       "      <td>9</td>\n",
       "      <td>51000</td>\n",
       "    </tr>\n",
       "    <tr>\n",
       "      <th>3796</th>\n",
       "      <td>3856</td>\n",
       "      <td>город Ташкент, Мирзо-Улугбекский район, Карасу...</td>\n",
       "      <td>Мирзо-Улугбекский</td>\n",
       "      <td>2</td>\n",
       "      <td>90.0</td>\n",
       "      <td>2</td>\n",
       "      <td>9</td>\n",
       "      <td>51000</td>\n",
       "    </tr>\n",
       "    <tr>\n",
       "      <th>2049</th>\n",
       "      <td>2077</td>\n",
       "      <td>город Ташкент, Сергелийский район, СЕРГЕЛИ-7</td>\n",
       "      <td>Сергелийский</td>\n",
       "      <td>5</td>\n",
       "      <td>120.0</td>\n",
       "      <td>9</td>\n",
       "      <td>9</td>\n",
       "      <td>59000</td>\n",
       "    </tr>\n",
       "    <tr>\n",
       "      <th>5602</th>\n",
       "      <td>5684</td>\n",
       "      <td>город Ташкент, Мирзо-Улугбекский район, Паркент</td>\n",
       "      <td>Мирзо-Улугбекский</td>\n",
       "      <td>3</td>\n",
       "      <td>83.0</td>\n",
       "      <td>2</td>\n",
       "      <td>8</td>\n",
       "      <td>77000</td>\n",
       "    </tr>\n",
       "  </tbody>\n",
       "</table>\n",
       "<p>1490 rows × 8 columns</p>\n",
       "</div>"
      ],
      "text/plain": [
       "      Unnamed: 0                                           location  \\\n",
       "6471        6563            город Ташкент, Чиланзарский район, Шарк   \n",
       "3660        3720     город Ташкент, Юнусабадский район, Юнусобод 19   \n",
       "383          385         город Ташкент, Яккасарайский район, Глинки   \n",
       "7018        7129         город Ташкент, Учтепинский район, Гулистон   \n",
       "3039        3077  город Ташкент, Яшнободский район, жилой компле...   \n",
       "...          ...                                                ...   \n",
       "5027        5107     город Ташкент, Яшнободский район, Фергана Йули   \n",
       "6315        6405         город Ташкент, Чиланзарский район, Алмазар   \n",
       "3796        3856  город Ташкент, Мирзо-Улугбекский район, Карасу...   \n",
       "2049        2077       город Ташкент, Сергелийский район, СЕРГЕЛИ-7   \n",
       "5602        5684    город Ташкент, Мирзо-Улугбекский район, Паркент   \n",
       "\n",
       "               district  rooms   size  level  max_levels  price  \n",
       "6471       Чиланзарский      2   55.0      4           4  36500  \n",
       "3660       Юнусабадский      2   60.0      1           5  42000  \n",
       "383       Яккасарайский      2   52.0      1           3  55000  \n",
       "7018        Учтепинский      2   40.0      2           4  36000  \n",
       "3039        Яшнободский      5  120.0      7           9  88000  \n",
       "...                 ...    ...    ...    ...         ...    ...  \n",
       "5027        Яшнободский      3   72.0      5           9  36500  \n",
       "6315       Чиланзарский      2   59.0      2           9  51000  \n",
       "3796  Мирзо-Улугбекский      2   90.0      2           9  51000  \n",
       "2049       Сергелийский      5  120.0      9           9  59000  \n",
       "5602  Мирзо-Улугбекский      3   83.0      2           8  77000  \n",
       "\n",
       "[1490 rows x 8 columns]"
      ]
     },
     "execution_count": 22,
     "metadata": {},
     "output_type": "execute_result"
    }
   ],
   "source": [
    "test_set"
   ]
  },
  {
   "cell_type": "code",
   "execution_count": 23,
   "id": "991912e8-20b5-4d83-8700-667ec6a1ba61",
   "metadata": {},
   "outputs": [],
   "source": [
    "X_test = test_set.drop('price', axis=1)\n",
    "y_test = test_set['price'].copy()"
   ]
  },
  {
   "cell_type": "code",
   "execution_count": 24,
   "id": "7500f2dd-1865-4f46-ab52-cadf2651075a",
   "metadata": {},
   "outputs": [],
   "source": [
    "X_test_prepared = full_pipeline.transform(X_test)\n"
   ]
  },
  {
   "cell_type": "code",
   "execution_count": 25,
   "id": "b56b8e46-dabd-4770-8474-210a1f5f6789",
   "metadata": {},
   "outputs": [],
   "source": [
    "y_predicted = LR_model.predict(X_test_prepared)"
   ]
  },
  {
   "cell_type": "code",
   "execution_count": 26,
   "id": "108a6e2c-23b8-4c88-8539-3da8cf57db3e",
   "metadata": {},
   "outputs": [
    {
     "data": {
      "text/plain": [
       "array([38729.99809134, 52449.18270146, 48133.75393573, ...,\n",
       "       82558.7660072 , 68762.48993983, 73280.73853956])"
      ]
     },
     "execution_count": 26,
     "metadata": {},
     "output_type": "execute_result"
    }
   ],
   "source": [
    "y_predicted"
   ]
  },
  {
   "cell_type": "code",
   "execution_count": 27,
   "id": "d0464d4c-46c6-43e1-b035-72b9a4d59fae",
   "metadata": {},
   "outputs": [
    {
     "data": {
      "text/plain": [
       "6471    36500\n",
       "3660    42000\n",
       "383     55000\n",
       "7018    36000\n",
       "3039    88000\n",
       "        ...  \n",
       "5027    36500\n",
       "6315    51000\n",
       "3796    51000\n",
       "2049    59000\n",
       "5602    77000\n",
       "Name: price, Length: 1490, dtype: int64"
      ]
     },
     "execution_count": 27,
     "metadata": {},
     "output_type": "execute_result"
    }
   ],
   "source": [
    "y_test"
   ]
  },
  {
   "cell_type": "code",
   "execution_count": 28,
   "id": "c5072cdb-acff-4189-bc4f-cea63ae3a089",
   "metadata": {},
   "outputs": [
    {
     "name": "stdout",
     "output_type": "stream",
     "text": [
      "32057.274606296287\n"
     ]
    }
   ],
   "source": [
    "# Baholash. Root mean square error (RMSE)\n",
    "from sklearn.metrics import mean_squared_error\n",
    "lin_mse = mean_squared_error(y_test, y_predicted)\n",
    "lin_rmse = np.sqrt(lin_mse)\n",
    "print(lin_rmse)"
   ]
  },
  {
   "cell_type": "code",
   "execution_count": 29,
   "id": "49ace278-1e0e-41d2-86f6-9e760fefb738",
   "metadata": {},
   "outputs": [
    {
     "name": "stdout",
     "output_type": "stream",
     "text": [
      "35775.465215681\n"
     ]
    }
   ],
   "source": [
    "# DECISION TREE\n",
    "\n",
    "from sklearn.tree import DecisionTreeRegressor\n",
    "Tree_model = DecisionTreeRegressor()\n",
    "Tree_model.fit(housing_prepared, housing_labels)\n",
    "\n",
    "y_predicted = Tree_model.predict(X_test_prepared)\n",
    "lin_mse = mean_squared_error(y_test, y_predicted)\n",
    "lin_rmse = np.sqrt(lin_mse)    \n",
    "print(lin_rmse)"
   ]
  },
  {
   "cell_type": "code",
   "execution_count": 30,
   "id": "1329e70b-b078-4270-872d-5d8bdb870ab3",
   "metadata": {},
   "outputs": [
    {
     "name": "stdout",
     "output_type": "stream",
     "text": [
      "30845.1279147272\n"
     ]
    }
   ],
   "source": [
    "# RANDOMFOREST\n",
    "\n",
    "from sklearn.ensemble import RandomForestRegressor\n",
    "RF_model = RandomForestRegressor()\n",
    "RF_model.fit(housing_prepared, housing_labels)\n",
    "\n",
    "y_predicted = RF_model.predict(X_test_prepared)\n",
    "lin_mse = mean_squared_error(y_test, y_predicted)\n",
    "lin_rmse = np.sqrt(lin_mse)    \n",
    "print(lin_rmse)"
   ]
  },
  {
   "cell_type": "code",
   "execution_count": null,
   "id": "6c041a57-d49f-4263-9015-a55d3a1e8c17",
   "metadata": {},
   "outputs": [],
   "source": []
  }
 ],
 "metadata": {
  "kernelspec": {
   "display_name": "Python 3 (ipykernel)",
   "language": "python",
   "name": "python3"
  },
  "language_info": {
   "codemirror_mode": {
    "name": "ipython",
    "version": 3
   },
   "file_extension": ".py",
   "mimetype": "text/x-python",
   "name": "python",
   "nbconvert_exporter": "python",
   "pygments_lexer": "ipython3",
   "version": "3.10.10"
  }
 },
 "nbformat": 4,
 "nbformat_minor": 5
}
